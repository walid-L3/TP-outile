{
 "cells": [
  {
   "cell_type": "code",
   "execution_count": null,
   "metadata": {},
   "outputs": [],
   "source": []
  },
  {
   "cell_type": "code",
   "execution_count": 1,
   "metadata": {},
   "outputs": [
    {
     "name": "stdout",
     "output_type": "stream",
     "text": [
      "Choisissez un nombre de 1 à 3 (ou zéro pour terminer) :\n",
      "1\n",
      "Vous avez choisi un!\n",
      "Choisissez un nombre de 1 à 3 (ou zéro pour terminer) : 2\n",
      "Vous préférez le deux!\n",
      "Choisissez un nombre de 1 à 3 (ou zéro pour terminer) : 3\n",
      "Vous optez pour le plus grand des trois!\n",
      "Choisissez un nombre de 1 à 3 (ou zéro pour terminer) : 0\n",
      "Vous avez entré zéro!\n",
      "L'exercice est donc terminé.\n"
     ]
    },
    {
     "ename": "ImportError",
     "evalue": "No module named 'SaisieEntier.py'; 'SaisieEntier' is not a package",
     "output_type": "error",
     "traceback": [
      "\u001b[0;31m---------------------------------------------------------------------------\u001b[0m",
      "\u001b[0;31mImportError\u001b[0m                               Traceback (most recent call last)",
      "\u001b[0;32m<ipython-input-1-2e5cd24cb377>\u001b[0m in \u001b[0;36m<module>\u001b[0;34m()\u001b[0m\n\u001b[0;32m----> 1\u001b[0;31m \u001b[0;32mfrom\u001b[0m \u001b[0mSaisieEntier\u001b[0m\u001b[0;34m.\u001b[0m\u001b[0mpy\u001b[0m \u001b[0;32mimport\u001b[0m \u001b[0;34m*\u001b[0m\u001b[0;34m\u001b[0m\u001b[0m\n\u001b[0m",
      "\u001b[0;31mImportError\u001b[0m: No module named 'SaisieEntier.py'; 'SaisieEntier' is not a package"
     ]
    }
   ],
   "source": [
    "from SaisieEntier.py import *"
   ]
  },
  {
   "cell_type": "code",
   "execution_count": null,
   "metadata": {},
   "outputs": [],
   "source": []
  },
  {
   "cell_type": "code",
   "execution_count": null,
   "metadata": {},
   "outputs": [],
   "source": []
  },
  {
   "cell_type": "code",
   "execution_count": null,
   "metadata": {},
   "outputs": [],
   "source": []
  },
  {
   "cell_type": "code",
   "execution_count": 5,
   "metadata": {},
   "outputs": [
    {
     "name": "stdout",
     "output_type": "stream",
     "text": [
      "donner la not:5\n",
      "les notes : [5]\n",
      "le nombre des notes saisie est: 1\n",
      "la bonne note est: 5\n",
      "la mauvaise note est: 5\n",
      "la moyen est: 5.0\n",
      "donner la not:45\n",
      "les notes : [5, 45]\n",
      "le nombre des notes saisie est: 2\n",
      "la bonne note est: 45\n",
      "la mauvaise note est: 5\n",
      "la moyen est: 25.0\n",
      "donner la not:0\n",
      "les notes : [5, 45, 0]\n",
      "le nombre des notes saisie est: 3\n",
      "la bonne note est: 45\n",
      "la mauvaise note est: 0\n",
      "la moyen est: 16.666666666666668\n",
      "donner la not:-4\n",
      "erreur verifier voutre not\n"
     ]
    }
   ],
   "source": [
    "note=[];\n",
    "a=input('donner la not:',);\n",
    "a= int(a);\n",
    "s=0;\n",
    "s=int(s);\n",
    "while   a >=  0:\n",
    "    note.append(a);\n",
    "    print('les notes :',  note)\n",
    "    p=len(note);\n",
    "    print('le nombre des notes saisie est:',p);\n",
    "    mx=max(note);\n",
    "    print('la bonne note est:',mx);\n",
    "    mn=min(note)\n",
    "    print('la mauvaise note est:',mn); \n",
    "    p=int(p);   \n",
    "    s=s+a;  \n",
    "    print('la moyen est:',s/p);  \n",
    "    a=input('donner la not:',);\n",
    "    a=int(a);        \n",
    "    if a<0 :\n",
    "        print('erreur verifier voutre not');\n",
    "        "
   ]
  },
  {
   "cell_type": "code",
   "execution_count": 3,
   "metadata": {},
   "outputs": [
    {
     "name": "stdout",
     "output_type": "stream",
     "text": [
      "saisir une chaine de caractair;sdff\n",
      "la chaine invers: ffds\n"
     ]
    }
   ],
   "source": [
    "s=input('saisir une chaine de caractair;');\n",
    "l=s[::-1];\n",
    "print('la chaine invers:',l);"
   ]
  },
  {
   "cell_type": "code",
   "execution_count": null,
   "metadata": {},
   "outputs": [],
   "source": []
  }
 ],
 "metadata": {
  "kernelspec": {
   "display_name": "Python 3",
   "language": "python",
   "name": "python3"
  },
  "language_info": {
   "codemirror_mode": {
    "name": "ipython",
    "version": 3
   },
   "file_extension": ".py",
   "mimetype": "text/x-python",
   "name": "python",
   "nbconvert_exporter": "python",
   "pygments_lexer": "ipython3",
   "version": "3.5.2"
  }
 },
 "nbformat": 4,
 "nbformat_minor": 2
}
